{
 "cells": [
  {
   "cell_type": "markdown",
   "metadata": {},
   "source": [
    "En los siguiente apartados se muestra el proceso que realizo para reducir el tamaño del dataset final con el motivo de evitar problemas dentro de la plataforma de render"
   ]
  },
  {
   "cell_type": "code",
   "execution_count": 2,
   "metadata": {},
   "outputs": [],
   "source": [
    "import numpy as np\n",
    "import pandas as pd\n",
    "import matplotlib.pyplot as plt\n",
    "import seaborn as sns\n",
    "import ast"
   ]
  },
  {
   "cell_type": "markdown",
   "metadata": {},
   "source": [
    "Primeramente se carga el documento de credits y movies_dataset para analizar y unir la informacion de ambos datasets en un solo "
   ]
  },
  {
   "cell_type": "code",
   "execution_count": 3,
   "metadata": {},
   "outputs": [
    {
     "name": "stderr",
     "output_type": "stream",
     "text": [
      "C:\\Users\\Jesus\\AppData\\Local\\Temp\\ipykernel_28428\\3808256760.py:1: DtypeWarning: Columns (10) have mixed types. Specify dtype option on import or set low_memory=False.\n",
      "  peliculas= pd.read_csv('movies_dataset.csv', dtype={\"overview\": str})\n"
     ]
    }
   ],
   "source": [
    "peliculas= pd.read_csv('movies_dataset.csv', dtype={\"overview\": str})"
   ]
  },
  {
   "cell_type": "code",
   "execution_count": 4,
   "metadata": {},
   "outputs": [],
   "source": [
    "creditos=pd.read_csv('credits.csv')"
   ]
  },
  {
   "cell_type": "markdown",
   "metadata": {},
   "source": [
    "Se identifican las celdas similares, esto permitira que se pueda hacer un merge como si fuera un join en SQL"
   ]
  },
  {
   "cell_type": "code",
   "execution_count": 5,
   "metadata": {},
   "outputs": [],
   "source": [
    "peliculas['id']=peliculas['id'].astype(str) #se convierte a string ambas variables para evitar valores flotantes que eviten la union\n",
    "creditos['id']=creditos['id'].astype(str)"
   ]
  },
  {
   "cell_type": "markdown",
   "metadata": {},
   "source": [
    "se hace la union de los dataset por medio de un inner join sobre la columna del mismo nombre"
   ]
  },
  {
   "cell_type": "code",
   "execution_count": 6,
   "metadata": {},
   "outputs": [],
   "source": [
    "df_unido=pd.merge(peliculas,creditos, on='id', how='inner')"
   ]
  },
  {
   "cell_type": "markdown",
   "metadata": {},
   "source": [
    "Se muestran todas las columnas del nuevo dataframe que contiene ambos datasets"
   ]
  },
  {
   "cell_type": "code",
   "execution_count": 7,
   "metadata": {},
   "outputs": [
    {
     "data": {
      "text/plain": [
       "Index(['adult', 'belongs_to_collection', 'budget', 'genres', 'homepage', 'id',\n",
       "       'imdb_id', 'original_language', 'original_title', 'overview',\n",
       "       'popularity', 'poster_path', 'production_companies',\n",
       "       'production_countries', 'release_date', 'revenue', 'runtime',\n",
       "       'spoken_languages', 'status', 'tagline', 'title', 'video',\n",
       "       'vote_average', 'vote_count', 'cast', 'crew'],\n",
       "      dtype='object')"
      ]
     },
     "execution_count": 7,
     "metadata": {},
     "output_type": "execute_result"
    }
   ],
   "source": [
    "df_unido.columns"
   ]
  },
  {
   "cell_type": "markdown",
   "metadata": {},
   "source": [
    "Debido a que las columnas de datos categoricos vienen como formato de texto, es necesario identificar y transformar esas columnas a valores que pueda manejar python, como pueden ser, diccionarios, listas, tuplas ,etc para ello se utiliza la libreria ast y literal_eval"
   ]
  },
  {
   "cell_type": "code",
   "execution_count": 8,
   "metadata": {},
   "outputs": [],
   "source": [
    "df_unido['cast']=df_unido['cast'].apply(ast.literal_eval)"
   ]
  },
  {
   "cell_type": "markdown",
   "metadata": {},
   "source": [
    "se crea una nueva columna con el nombre actores en el cual se sacaran unicamente los valores de la clave name que contenian los diccionarios de la columna cast, toda la informacion restante es innecesaria"
   ]
  },
  {
   "cell_type": "code",
   "execution_count": 9,
   "metadata": {},
   "outputs": [],
   "source": [
    "df_unido['actores']=df_unido['cast'].apply(lambda lista: [d['name'] for d in lista])"
   ]
  },
  {
   "cell_type": "markdown",
   "metadata": {},
   "source": [
    "A continuacion se realiza lo mismo para las columnas crew y genres, ademas, tambien se generan las nuevas columnas \"puesto\", \"nombre\" y \"generos\""
   ]
  },
  {
   "cell_type": "code",
   "execution_count": 9,
   "metadata": {},
   "outputs": [],
   "source": [
    "df_unido['crew']=df_unido['crew'].apply(ast.literal_eval)"
   ]
  },
  {
   "cell_type": "code",
   "execution_count": 10,
   "metadata": {},
   "outputs": [],
   "source": [
    "df_unido['puesto']=df_unido['crew'].apply(lambda lista: [d['job'] for d in lista])"
   ]
  },
  {
   "cell_type": "code",
   "execution_count": 11,
   "metadata": {},
   "outputs": [],
   "source": [
    "df_unido['nombre']=df_unido['crew'].apply(lambda lista: [d['name'] for d in lista])"
   ]
  },
  {
   "cell_type": "code",
   "execution_count": 12,
   "metadata": {},
   "outputs": [],
   "source": [
    "df_unido['genres']=df_unido['genres'].apply(ast.literal_eval)"
   ]
  },
  {
   "cell_type": "code",
   "execution_count": 13,
   "metadata": {},
   "outputs": [],
   "source": [
    "df_unido['generos']=df_unido['genres'].apply(lambda lista: [d['name'] for d in lista])"
   ]
  },
  {
   "cell_type": "markdown",
   "metadata": {},
   "source": [
    "Debido a que algunas columnas cuentan con listas vacias o valores nulos, etc, que evitaban el uso del metodo anterior, se desarrollo una funcion que permite extraer la informacion necesaria de las colunmas a las cuales no se les podia aplicar el metodo anterior"
   ]
  },
  {
   "cell_type": "code",
   "execution_count": 10,
   "metadata": {},
   "outputs": [],
   "source": [
    "def extract_val2(row):\n",
    "    # Verificamos si 'row' es un diccionario o un string\n",
    "    if isinstance(row, str):\n",
    "        try:\n",
    "            row = ast.literal_eval(row)  # Convertimos el string a objeto de Python\n",
    "        except (ValueError, SyntaxError): #si existen errores de conversion retornamos None para cada columna nueva\n",
    "            return pd.Series([None, None])\n",
    "    \n",
    "    # Verificamos si 'row' es un diccionario y tiene las claves que necesitamos\n",
    "    if isinstance(row, dict):\n",
    "        name = row.get('name')  #se extrae el valor de la clave nombre\n",
    "        id_ = row.get('id')  #se extrae el valor de la clave id\n",
    "        return pd.Series([name, id_])\n",
    "\n",
    "    return pd.Series([None, None]) #en caso de encontrar elementos nulos, regresa una serie con None para cada nueva columna creada"
   ]
  },
  {
   "cell_type": "markdown",
   "metadata": {},
   "source": [
    "Se generan las nuevas columnas y se aplica el metodo a la columna de belongs to collection"
   ]
  },
  {
   "cell_type": "code",
   "execution_count": 11,
   "metadata": {},
   "outputs": [],
   "source": [
    "df_unido['belongs_to_collection']=pd.DataFrame(df_unido['belongs_to_collection'])"
   ]
  },
  {
   "cell_type": "code",
   "execution_count": 12,
   "metadata": {},
   "outputs": [],
   "source": [
    "df_unido[['collection', 'id_collec']] = df_unido['belongs_to_collection'].apply(extract_val2)"
   ]
  },
  {
   "cell_type": "code",
   "execution_count": 17,
   "metadata": {},
   "outputs": [],
   "source": [
    "df_unido['production_companies']=pd.DataFrame(df_unido['production_companies'])"
   ]
  },
  {
   "cell_type": "code",
   "execution_count": 18,
   "metadata": {},
   "outputs": [],
   "source": [
    "df_unido['spoken_languages']=pd.DataFrame(df_unido['spoken_languages']) "
   ]
  },
  {
   "cell_type": "markdown",
   "metadata": {},
   "source": [
    "A continuacion se crea una nueva funcion dado que la anterior devolvia valores completamente nulos y debido a que las claves contenian nombres diferentes por lo cual el metodo previo no se podia aplicar (no se logro generar una unica funcion que fuera aplicable a todas las columnas independentemente del tipo de valores que contenian las columnas)"
   ]
  },
  {
   "cell_type": "code",
   "execution_count": null,
   "metadata": {},
   "outputs": [],
   "source": [
    "def extract_val(row):\n",
    "    if isinstance(row, str):\n",
    "        try:\n",
    "            data_list=ast.literal_eval(row) # Convertimos el string a objeto de Python\n",
    "            if isinstance(data_list, list):\n",
    "                ids=[d['id'] for d in data_list if 'id' in d] #se busca el key id en los diccionarios y se extrae el valor \n",
    "                names=[d['name'] for d in data_list if 'name' in d] #se busca el key name en los diccionarios y se extrae el valor \n",
    "                return pd.Series([names,ids])  #se generan las columnas en formato serie de pandas\n",
    "        except(ValueError, SyntaxError):  #en caso de que existan errores de conversion o existan valores nulos se ignoran y se devuelve una serie de panda con valores None None\n",
    "            pass\n",
    "    return pd.Series([None,None])"
   ]
  },
  {
   "cell_type": "markdown",
   "metadata": {},
   "source": [
    "Se aplica la funcion a las columnas de spoken_languages y production_companies"
   ]
  },
  {
   "cell_type": "code",
   "execution_count": 20,
   "metadata": {},
   "outputs": [],
   "source": [
    "df_unido[['name_doblaje', 'iso_639_1']] = df_unido['spoken_languages'].apply(extract_val)\n"
   ]
  },
  {
   "cell_type": "code",
   "execution_count": 21,
   "metadata": {},
   "outputs": [],
   "source": [
    "df_unido[['name_compañia', 'id_compañia']] = df_unido['production_companies'].apply(extract_val)"
   ]
  },
  {
   "cell_type": "markdown",
   "metadata": {},
   "source": [
    "Se eliminan las columnas que contienen los diccionarios, asi como las columnas innecesarias para lograr los endpoints o el modelo de ML"
   ]
  },
  {
   "cell_type": "code",
   "execution_count": 24,
   "metadata": {},
   "outputs": [],
   "source": [
    "df_unido.drop(['adult','belongs_to_collection','genres','homepage','imdb_id','original_title','poster_path','production_companies','production_countries','spoken_languages','status','video','cast','crew','id_collec','iso_639_1','id_compañia'],axis=1, inplace=True)"
   ]
  },
  {
   "cell_type": "markdown",
   "metadata": {},
   "source": [
    "se eliminan dos columnas mas luego de revisar su informacion"
   ]
  },
  {
   "cell_type": "code",
   "execution_count": 29,
   "metadata": {},
   "outputs": [],
   "source": [
    "df_unido.drop(['tagline','runtime'],axis=1,inplace=True)"
   ]
  },
  {
   "cell_type": "markdown",
   "metadata": {},
   "source": [
    "Se genera un nuevo documento que inicialmente se pensaba seria el final"
   ]
  },
  {
   "cell_type": "code",
   "execution_count": 43,
   "metadata": {},
   "outputs": [],
   "source": [
    "df_unido.to_csv('dataset_final.csv',index=False)"
   ]
  },
  {
   "cell_type": "markdown",
   "metadata": {},
   "source": [
    "Se lee el nuevo dataset creado"
   ]
  },
  {
   "cell_type": "code",
   "execution_count": 44,
   "metadata": {},
   "outputs": [],
   "source": [
    "df=pd.read_csv('dataset_final.csv')"
   ]
  },
  {
   "cell_type": "markdown",
   "metadata": {},
   "source": [
    "Se eliminan los titulos y fechas de estreno con valores vacions o nulos"
   ]
  },
  {
   "cell_type": "code",
   "execution_count": 53,
   "metadata": {},
   "outputs": [],
   "source": [
    "df.dropna(subset=['title'],inplace=True)"
   ]
  },
  {
   "cell_type": "code",
   "execution_count": 55,
   "metadata": {},
   "outputs": [],
   "source": [
    "df.dropna(subset=['release_date'],inplace=True)"
   ]
  },
  {
   "cell_type": "markdown",
   "metadata": {},
   "source": [
    "Se filtran todas las columnas donde el idioma de doblaje no contenga el idioma ingles, esto es para disminuir el tamaño del dataset y se considera ese idioma ya que es el mas hablado muldialmente"
   ]
  },
  {
   "cell_type": "code",
   "execution_count": 58,
   "metadata": {},
   "outputs": [],
   "source": [
    "df_filtrado = df[df['name_doblaje'].str.contains('English', case=False, na=False)]"
   ]
  },
  {
   "cell_type": "markdown",
   "metadata": {},
   "source": [
    "Se renombran las columnas para evitar conflictos de nombres en posteriores procesos"
   ]
  },
  {
   "cell_type": "code",
   "execution_count": 66,
   "metadata": {},
   "outputs": [
    {
     "name": "stderr",
     "output_type": "stream",
     "text": [
      "C:\\Users\\Jesus\\AppData\\Local\\Temp\\ipykernel_36324\\943177078.py:1: SettingWithCopyWarning: \n",
      "A value is trying to be set on a copy of a slice from a DataFrame\n",
      "\n",
      "See the caveats in the documentation: https://pandas.pydata.org/pandas-docs/stable/user_guide/indexing.html#returning-a-view-versus-a-copy\n",
      "  df_filtrado.rename(columns={'puesto':'puestos_produccion','nombre':'nombre_produccion','name_doblaje':'doblajes','name_compañia':'companies'}, inplace=True)\n"
     ]
    }
   ],
   "source": [
    "df_filtrado.rename(columns={'puesto':'puestos_produccion','nombre':'nombre_produccion','name_doblaje':'doblajes','name_compañia':'companies'}, inplace=True)"
   ]
  },
  {
   "cell_type": "markdown",
   "metadata": {},
   "source": [
    "Se analiza el resultado del dataframe filtrado se observa que casi no existen registros o columnas con elementos nulos"
   ]
  },
  {
   "cell_type": "code",
   "execution_count": 70,
   "metadata": {},
   "outputs": [
    {
     "name": "stdout",
     "output_type": "stream",
     "text": [
      "<class 'pandas.core.frame.DataFrame'>\n",
      "Index: 28771 entries, 0 to 45537\n",
      "Data columns (total 17 columns):\n",
      " #   Column              Non-Null Count  Dtype  \n",
      "---  ------              --------------  -----  \n",
      " 0   budget              28771 non-null  int64  \n",
      " 1   id                  28771 non-null  int64  \n",
      " 2   original_language   28764 non-null  object \n",
      " 3   overview            28690 non-null  object \n",
      " 4   popularity          28771 non-null  float64\n",
      " 5   release_date        28771 non-null  object \n",
      " 6   revenue             28771 non-null  float64\n",
      " 7   title               28771 non-null  object \n",
      " 8   vote_average        28771 non-null  float64\n",
      " 9   vote_count          28771 non-null  float64\n",
      " 10  actores             28771 non-null  object \n",
      " 11  puestos_produccion  28771 non-null  object \n",
      " 12  nombre_produccion   28771 non-null  object \n",
      " 13  generos             28771 non-null  object \n",
      " 14  collection          3144 non-null   object \n",
      " 15  doblajes            28771 non-null  object \n",
      " 16  companies           28771 non-null  object \n",
      "dtypes: float64(4), int64(2), object(11)\n",
      "memory usage: 5.0+ MB\n"
     ]
    }
   ],
   "source": [
    "df_filtrado.info()"
   ]
  },
  {
   "cell_type": "markdown",
   "metadata": {},
   "source": [
    "Se generan 3 nuevas columnas para poder realizar los endpoints de la api que se subira a render "
   ]
  },
  {
   "cell_type": "code",
   "execution_count": 76,
   "metadata": {},
   "outputs": [
    {
     "name": "stderr",
     "output_type": "stream",
     "text": [
      "C:\\Users\\Jesus\\AppData\\Local\\Temp\\ipykernel_36324\\379485518.py:1: SettingWithCopyWarning: \n",
      "A value is trying to be set on a copy of a slice from a DataFrame.\n",
      "Try using .loc[row_indexer,col_indexer] = value instead\n",
      "\n",
      "See the caveats in the documentation: https://pandas.pydata.org/pandas-docs/stable/user_guide/indexing.html#returning-a-view-versus-a-copy\n",
      "  df_filtrado['release_date'] = pd.to_datetime(df_filtrado['release_date'], errors='coerce')\n"
     ]
    }
   ],
   "source": [
    "df_filtrado['release_date'] = pd.to_datetime(df_filtrado['release_date'], errors='coerce')"
   ]
  },
  {
   "cell_type": "markdown",
   "metadata": {},
   "source": [
    "Las columnas son dia, mes y año"
   ]
  },
  {
   "cell_type": "code",
   "execution_count": 77,
   "metadata": {},
   "outputs": [
    {
     "name": "stderr",
     "output_type": "stream",
     "text": [
      "C:\\Users\\Jesus\\AppData\\Local\\Temp\\ipykernel_36324\\3926080634.py:1: SettingWithCopyWarning: \n",
      "A value is trying to be set on a copy of a slice from a DataFrame.\n",
      "Try using .loc[row_indexer,col_indexer] = value instead\n",
      "\n",
      "See the caveats in the documentation: https://pandas.pydata.org/pandas-docs/stable/user_guide/indexing.html#returning-a-view-versus-a-copy\n",
      "  df_filtrado['mes'] = df_filtrado['release_date'].dt.month\n",
      "C:\\Users\\Jesus\\AppData\\Local\\Temp\\ipykernel_36324\\3926080634.py:2: SettingWithCopyWarning: \n",
      "A value is trying to be set on a copy of a slice from a DataFrame.\n",
      "Try using .loc[row_indexer,col_indexer] = value instead\n",
      "\n",
      "See the caveats in the documentation: https://pandas.pydata.org/pandas-docs/stable/user_guide/indexing.html#returning-a-view-versus-a-copy\n",
      "  df_filtrado['dia'] = df_filtrado['release_date'].dt.day\n",
      "C:\\Users\\Jesus\\AppData\\Local\\Temp\\ipykernel_36324\\3926080634.py:3: SettingWithCopyWarning: \n",
      "A value is trying to be set on a copy of a slice from a DataFrame.\n",
      "Try using .loc[row_indexer,col_indexer] = value instead\n",
      "\n",
      "See the caveats in the documentation: https://pandas.pydata.org/pandas-docs/stable/user_guide/indexing.html#returning-a-view-versus-a-copy\n",
      "  df_filtrado['año'] = df_filtrado['release_date'].dt.year\n"
     ]
    }
   ],
   "source": [
    "df_filtrado['mes'] = df_filtrado['release_date'].dt.month\n",
    "df_filtrado['dia'] = df_filtrado['release_date'].dt.day\n",
    "df_filtrado['año'] = df_filtrado['release_date'].dt.year"
   ]
  },
  {
   "cell_type": "markdown",
   "metadata": {},
   "source": [
    "Al analizar a detalle se determina que la columna dia no servira para lo que se pretende realizar (determinar el numero de peliculas estrenadas los dias \"lunes, martes, miercoles, ect) por lo cual se elimina la columna"
   ]
  },
  {
   "cell_type": "code",
   "execution_count": 79,
   "metadata": {},
   "outputs": [
    {
     "name": "stderr",
     "output_type": "stream",
     "text": [
      "C:\\Users\\Jesus\\AppData\\Local\\Temp\\ipykernel_36324\\1821171024.py:1: SettingWithCopyWarning: \n",
      "A value is trying to be set on a copy of a slice from a DataFrame\n",
      "\n",
      "See the caveats in the documentation: https://pandas.pydata.org/pandas-docs/stable/user_guide/indexing.html#returning-a-view-versus-a-copy\n",
      "  df_filtrado.drop(['dia'], axis=1 , inplace=True)\n"
     ]
    }
   ],
   "source": [
    "df_filtrado.drop(['dia'], axis=1 , inplace=True)"
   ]
  },
  {
   "cell_type": "code",
   "execution_count": 96,
   "metadata": {},
   "outputs": [
    {
     "name": "stderr",
     "output_type": "stream",
     "text": [
      "C:\\Users\\Jesus\\AppData\\Local\\Temp\\ipykernel_36324\\820308054.py:1: SettingWithCopyWarning: \n",
      "A value is trying to be set on a copy of a slice from a DataFrame\n",
      "\n",
      "See the caveats in the documentation: https://pandas.pydata.org/pandas-docs/stable/user_guide/indexing.html#returning-a-view-versus-a-copy\n",
      "  df_filtrado.rename(columns={'año':'release_year'}, inplace=True)\n"
     ]
    }
   ],
   "source": [
    "df_filtrado.rename(columns={'año':'release_year'}, inplace=True)"
   ]
  },
  {
   "cell_type": "markdown",
   "metadata": {},
   "source": [
    "Se crea la columna return que es la division entre revenue y budget"
   ]
  },
  {
   "cell_type": "code",
   "execution_count": 98,
   "metadata": {},
   "outputs": [
    {
     "name": "stderr",
     "output_type": "stream",
     "text": [
      "C:\\Users\\Jesus\\AppData\\Local\\Temp\\ipykernel_36324\\3822242372.py:1: SettingWithCopyWarning: \n",
      "A value is trying to be set on a copy of a slice from a DataFrame.\n",
      "Try using .loc[row_indexer,col_indexer] = value instead\n",
      "\n",
      "See the caveats in the documentation: https://pandas.pydata.org/pandas-docs/stable/user_guide/indexing.html#returning-a-view-versus-a-copy\n",
      "  df_filtrado['return'] = df_filtrado['revenue'] / df_filtrado['budget']\n"
     ]
    }
   ],
   "source": [
    "df_filtrado['return'] = df_filtrado['revenue'] / df_filtrado['budget']"
   ]
  },
  {
   "cell_type": "code",
   "execution_count": 101,
   "metadata": {},
   "outputs": [
    {
     "data": {
      "text/plain": [
       "0        12.451801\n",
       "1         4.043035\n",
       "2              NaN\n",
       "3         5.090760\n",
       "4              inf\n",
       "           ...    \n",
       "45530          NaN\n",
       "45531          NaN\n",
       "45532          NaN\n",
       "45535          NaN\n",
       "45537          NaN\n",
       "Name: return, Length: 28771, dtype: float64"
      ]
     },
     "execution_count": 101,
     "metadata": {},
     "output_type": "execute_result"
    }
   ],
   "source": [
    "df_filtrado['return']"
   ]
  },
  {
   "cell_type": "markdown",
   "metadata": {},
   "source": [
    "En caso de existir valores infinitos positivos o negativos estos son reemplazados por 0 y en caso de haber valores vacios, estos tambien se rellenan con 0"
   ]
  },
  {
   "cell_type": "code",
   "execution_count": 102,
   "metadata": {},
   "outputs": [
    {
     "name": "stderr",
     "output_type": "stream",
     "text": [
      "C:\\Users\\Jesus\\AppData\\Local\\Temp\\ipykernel_36324\\2021111667.py:1: SettingWithCopyWarning: \n",
      "A value is trying to be set on a copy of a slice from a DataFrame.\n",
      "Try using .loc[row_indexer,col_indexer] = value instead\n",
      "\n",
      "See the caveats in the documentation: https://pandas.pydata.org/pandas-docs/stable/user_guide/indexing.html#returning-a-view-versus-a-copy\n",
      "  df_filtrado['return']=df_filtrado['return'].fillna(0).replace([float('inf'), -float('inf')],0)\n"
     ]
    }
   ],
   "source": [
    "df_filtrado['return']=df_filtrado['return'].fillna(0).replace([float('inf'), -float('inf')],0)"
   ]
  },
  {
   "cell_type": "markdown",
   "metadata": {},
   "source": [
    "Se crea el nuevo documento con toda la informacion necesaria y listo para ser consumido por las apis y el modelo de machine learning"
   ]
  },
  {
   "cell_type": "code",
   "execution_count": 105,
   "metadata": {},
   "outputs": [],
   "source": [
    "df_filtrado.to_csv('dataset.csv',index=False)"
   ]
  },
  {
   "cell_type": "code",
   "execution_count": null,
   "metadata": {},
   "outputs": [],
   "source": []
  }
 ],
 "metadata": {
  "kernelspec": {
   "display_name": "venv",
   "language": "python",
   "name": "python3"
  },
  "language_info": {
   "codemirror_mode": {
    "name": "ipython",
    "version": 3
   },
   "file_extension": ".py",
   "mimetype": "text/x-python",
   "name": "python",
   "nbconvert_exporter": "python",
   "pygments_lexer": "ipython3",
   "version": "3.11.9"
  }
 },
 "nbformat": 4,
 "nbformat_minor": 2
}
